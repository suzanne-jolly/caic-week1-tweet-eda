{
  "nbformat": 4,
  "nbformat_minor": 0,
  "metadata": {
    "colab": {
      "provenance": []
    },
    "kernelspec": {
      "name": "python3",
      "display_name": "Python 3"
    },
    "language_info": {
      "name": "python"
    }
  },
  "cells": [
    {
      "cell_type": "code",
      "execution_count": null,
      "metadata": {
        "id": "8oDbLT88v-sX"
      },
      "outputs": [],
      "source": []
    },
    {
      "cell_type": "code",
      "source": [
        "from google.colab import drive\n",
        "drive.mount('/content/drive')\n",
        "#importing dataset\n"
      ],
      "metadata": {
        "colab": {
          "base_uri": "https://localhost:8080/"
        },
        "id": "-8U7QzX0yseE",
        "outputId": "43a399d3-541a-4809-f8cd-fa661cb80850"
      },
      "execution_count": 1,
      "outputs": [
        {
          "output_type": "stream",
          "name": "stdout",
          "text": [
            "Mounted at /content/drive\n"
          ]
        }
      ]
    },
    {
      "cell_type": "code",
      "source": [
        "import pandas as pd\n",
        "df = pd.read_csv('/content/drive/MyDrive/Colab Notebooks/behaviour_simulation_train.xlsx - Sheet1.csv')\n",
        "df.shape\n",
        "df.head()\n",
        "df.info()\n",
        "df.isnull().sum()\n"
      ],
      "metadata": {
        "colab": {
          "base_uri": "https://localhost:8080/",
          "height": 557
        },
        "id": "f9-iq7D5zE4T",
        "outputId": "037cf300-e9cf-4582-d741-ee6a979238e2"
      },
      "execution_count": 2,
      "outputs": [
        {
          "output_type": "stream",
          "name": "stdout",
          "text": [
            "<class 'pandas.core.frame.DataFrame'>\n",
            "RangeIndex: 17331 entries, 0 to 17330\n",
            "Data columns (total 7 columns):\n",
            " #   Column            Non-Null Count  Dtype \n",
            "---  ------            --------------  ----- \n",
            " 0   id                17331 non-null  int64 \n",
            " 1   date              17331 non-null  object\n",
            " 2   likes             17331 non-null  int64 \n",
            " 3   content           17331 non-null  object\n",
            " 4   username          17331 non-null  object\n",
            " 5   media             17331 non-null  object\n",
            " 6   inferred company  17331 non-null  object\n",
            "dtypes: int64(2), object(5)\n",
            "memory usage: 947.9+ KB\n"
          ]
        },
        {
          "output_type": "execute_result",
          "data": {
            "text/plain": [
              "id                  0\n",
              "date                0\n",
              "likes               0\n",
              "content             0\n",
              "username            0\n",
              "media               0\n",
              "inferred company    0\n",
              "dtype: int64"
            ],
            "text/html": [
              "<div>\n",
              "<style scoped>\n",
              "    .dataframe tbody tr th:only-of-type {\n",
              "        vertical-align: middle;\n",
              "    }\n",
              "\n",
              "    .dataframe tbody tr th {\n",
              "        vertical-align: top;\n",
              "    }\n",
              "\n",
              "    .dataframe thead th {\n",
              "        text-align: right;\n",
              "    }\n",
              "</style>\n",
              "<table border=\"1\" class=\"dataframe\">\n",
              "  <thead>\n",
              "    <tr style=\"text-align: right;\">\n",
              "      <th></th>\n",
              "      <th>0</th>\n",
              "    </tr>\n",
              "  </thead>\n",
              "  <tbody>\n",
              "    <tr>\n",
              "      <th>id</th>\n",
              "      <td>0</td>\n",
              "    </tr>\n",
              "    <tr>\n",
              "      <th>date</th>\n",
              "      <td>0</td>\n",
              "    </tr>\n",
              "    <tr>\n",
              "      <th>likes</th>\n",
              "      <td>0</td>\n",
              "    </tr>\n",
              "    <tr>\n",
              "      <th>content</th>\n",
              "      <td>0</td>\n",
              "    </tr>\n",
              "    <tr>\n",
              "      <th>username</th>\n",
              "      <td>0</td>\n",
              "    </tr>\n",
              "    <tr>\n",
              "      <th>media</th>\n",
              "      <td>0</td>\n",
              "    </tr>\n",
              "    <tr>\n",
              "      <th>inferred company</th>\n",
              "      <td>0</td>\n",
              "    </tr>\n",
              "  </tbody>\n",
              "</table>\n",
              "</div><br><label><b>dtype:</b> int64</label>"
            ]
          },
          "metadata": {},
          "execution_count": 2
        }
      ]
    },
    {
      "cell_type": "code",
      "source": [
        "df = df.dropna(subset=['content', 'username', 'inferred company', 'likes'])\n",
        "df['media'] = df['media'].fillna('no_media')\n",
        "df['has_media'] = df['media'].apply(lambda x: x != 'no_media')\n",
        "df['content'] = df['content'].astype(str).str.strip().str.lower()\n",
        "df['datetime'] = pd.to_datetime(df['date'], errors='coerce')\n",
        "\n",
        "#pre-processing"
      ],
      "metadata": {
        "id": "oZCcjEhOz0ra"
      },
      "execution_count": 15,
      "outputs": []
    },
    {
      "cell_type": "code",
      "source": [
        "df.head()\n",
        "df.info()\n",
        "df.isnull().sum()\n",
        "\n",
        "#verifying\n"
      ],
      "metadata": {
        "id": "yfvUvIB10lJk",
        "colab": {
          "base_uri": "https://localhost:8080/",
          "height": 656
        },
        "outputId": "56dd757b-bfa9-47d0-99fc-a7459a678dc3"
      },
      "execution_count": 7,
      "outputs": [
        {
          "output_type": "stream",
          "name": "stdout",
          "text": [
            "<class 'pandas.core.frame.DataFrame'>\n",
            "RangeIndex: 17331 entries, 0 to 17330\n",
            "Data columns (total 9 columns):\n",
            " #   Column            Non-Null Count  Dtype         \n",
            "---  ------            --------------  -----         \n",
            " 0   id                17331 non-null  int64         \n",
            " 1   date              17331 non-null  object        \n",
            " 2   likes             17331 non-null  int64         \n",
            " 3   content           17331 non-null  object        \n",
            " 4   username          17331 non-null  object        \n",
            " 5   media             17331 non-null  object        \n",
            " 6   inferred company  17331 non-null  object        \n",
            " 7   has_media         17331 non-null  bool          \n",
            " 8   datetime          17331 non-null  datetime64[ns]\n",
            "dtypes: bool(1), datetime64[ns](1), int64(2), object(5)\n",
            "memory usage: 1.1+ MB\n"
          ]
        },
        {
          "output_type": "execute_result",
          "data": {
            "text/plain": [
              "id                  0\n",
              "date                0\n",
              "likes               0\n",
              "content             0\n",
              "username            0\n",
              "media               0\n",
              "inferred company    0\n",
              "has_media           0\n",
              "datetime            0\n",
              "dtype: int64"
            ],
            "text/html": [
              "<div>\n",
              "<style scoped>\n",
              "    .dataframe tbody tr th:only-of-type {\n",
              "        vertical-align: middle;\n",
              "    }\n",
              "\n",
              "    .dataframe tbody tr th {\n",
              "        vertical-align: top;\n",
              "    }\n",
              "\n",
              "    .dataframe thead th {\n",
              "        text-align: right;\n",
              "    }\n",
              "</style>\n",
              "<table border=\"1\" class=\"dataframe\">\n",
              "  <thead>\n",
              "    <tr style=\"text-align: right;\">\n",
              "      <th></th>\n",
              "      <th>0</th>\n",
              "    </tr>\n",
              "  </thead>\n",
              "  <tbody>\n",
              "    <tr>\n",
              "      <th>id</th>\n",
              "      <td>0</td>\n",
              "    </tr>\n",
              "    <tr>\n",
              "      <th>date</th>\n",
              "      <td>0</td>\n",
              "    </tr>\n",
              "    <tr>\n",
              "      <th>likes</th>\n",
              "      <td>0</td>\n",
              "    </tr>\n",
              "    <tr>\n",
              "      <th>content</th>\n",
              "      <td>0</td>\n",
              "    </tr>\n",
              "    <tr>\n",
              "      <th>username</th>\n",
              "      <td>0</td>\n",
              "    </tr>\n",
              "    <tr>\n",
              "      <th>media</th>\n",
              "      <td>0</td>\n",
              "    </tr>\n",
              "    <tr>\n",
              "      <th>inferred company</th>\n",
              "      <td>0</td>\n",
              "    </tr>\n",
              "    <tr>\n",
              "      <th>has_media</th>\n",
              "      <td>0</td>\n",
              "    </tr>\n",
              "    <tr>\n",
              "      <th>datetime</th>\n",
              "      <td>0</td>\n",
              "    </tr>\n",
              "  </tbody>\n",
              "</table>\n",
              "</div><br><label><b>dtype:</b> int64</label>"
            ]
          },
          "metadata": {},
          "execution_count": 7
        }
      ]
    },
    {
      "cell_type": "code",
      "source": [
        "import seaborn as sns\n",
        "import matplotlib.pyplot as plt\n",
        "\n",
        "sns.histplot(df['likes'], kde=True)\n",
        "sns.boxplot(x=df['likes'])\n",
        "\n",
        "#EDA plot\n",
        "#The distribution of tweet likes is highly right-skewed — most tweets receive relatively few likes, while a small number of tweets get tens or even hundreds of thousands of likes."
      ],
      "metadata": {
        "colab": {
          "base_uri": "https://localhost:8080/",
          "height": 467
        },
        "id": "974R81-ZvBXP",
        "outputId": "9c56621c-6f92-4836-d67c-9d70c00a03d2"
      },
      "execution_count": 8,
      "outputs": [
        {
          "output_type": "execute_result",
          "data": {
            "text/plain": [
              "<Axes: xlabel='likes', ylabel='Count'>"
            ]
          },
          "metadata": {},
          "execution_count": 8
        },
        {
          "output_type": "display_data",
          "data": {
            "text/plain": [
              "<Figure size 640x480 with 1 Axes>"
            ],
            "image/png": "[encoded data removed]"
          },
          "metadata": {}
        }
      ]
    },
    {
      "cell_type": "code",
      "source": [
        "import seaborn as sns\n",
        "import matplotlib.pyplot as plt\n",
        "plt.figure(figsize=(12, 6))  # Widen the plot\n",
        "sns.countplot(x='username', data=df, order=df['username'].value_counts().iloc[:10].index)\n",
        "plt.title(\"Top 10 usernames by Count\")\n",
        "plt.xlabel(\"username\")\n",
        "plt.ylabel(\"Tweet Count\")\n",
        "#This bar plot shows the 10 most frequent usernames in the dataset. These usernames are the most active on Twitter and may drive overall engagement trends.\n"
      ],
      "metadata": {
        "colab": {
          "base_uri": "https://localhost:8080/",
          "height": 496
        },
        "outputId": "6fd2c307-8ffb-46f0-f8e4-2066237069b9",
        "id": "S92z9uJr0znW"
      },
      "execution_count": 29,
      "outputs": [
        {
          "output_type": "execute_result",
          "data": {
            "text/plain": [
              "Text(0, 0.5, 'Tweet Count')"
            ]
          },
          "metadata": {},
          "execution_count": 29
        },
        {
          "output_type": "display_data",
          "data": {
            "text/plain": [
              "<Figure size 1200x600 with 1 Axes>"
            ],
            "image/png": "[encoded data removed]"
          },
          "metadata": {}
        }
      ]
    },
    {
      "cell_type": "code",
      "source": [
        "import seaborn as sns\n",
        "import matplotlib.pyplot as plt\n",
        "plt.figure(figsize=(12, 6))  # Widen the plot\n",
        "sns.countplot(x='inferred company', data=df, order=df['inferred company'].value_counts().iloc[:10].index)\n",
        "plt.title(\"Top 10 Inferred Companies by Count\")\n",
        "plt.xlabel(\"Inferred Company\")\n",
        "plt.ylabel(\"Tweet Count\")\n",
        "#This bar plot shows the 10 most frequent companies in the dataset. These brands are the most active on Twitter and may drive overall engagement trends.\n"
      ],
      "metadata": {
        "colab": {
          "base_uri": "https://localhost:8080/",
          "height": 582
        },
        "id": "AbjSKyGHyuBX",
        "outputId": "7c87e5f8-a34d-4201-f329-8bb33f55e318"
      },
      "execution_count": null,
      "outputs": [
        {
          "output_type": "execute_result",
          "data": {
            "text/plain": [
              "Text(0, 0.5, 'Tweet Count')"
            ]
          },
          "metadata": {},
          "execution_count": 20
        },
        {
          "output_type": "display_data",
          "data": {
            "text/plain": [
              "<Figure size 1200x600 with 1 Axes>"
            ],
            "image/png": "[encoded data removed]"
          },
          "metadata": {}
        }
      ]
    },
    {
      "cell_type": "code",
      "source": [
        "df['hour'] = df['datetime'].dt.hour\n",
        "df['day_of_week'] = df['datetime'].dt.day_name()\n",
        "#Feature engineering"
      ],
      "metadata": {
        "id": "1KyVqmDJvKVN"
      },
      "execution_count": 10,
      "outputs": []
    },
    {
      "cell_type": "code",
      "source": [
        "df['word_count'] = df['content'].apply(lambda x: len(x.split()))\n",
        "df['char_count'] = df['content'].apply(len)\n",
        "#Feature engineering"
      ],
      "metadata": {
        "id": "fwdBeqHsvgEV"
      },
      "execution_count": 12,
      "outputs": []
    },
    {
      "cell_type": "code",
      "source": [
        "df.head()\n",
        "df.info()\n",
        "df.isnull().sum()\n",
        "\n",
        "#verifying\n"
      ],
      "metadata": {
        "colab": {
          "base_uri": "https://localhost:8080/",
          "height": 854
        },
        "id": "EI1kyIeM2agi",
        "outputId": "fb8f87e1-30a6-43b8-a5a5-01d32f87b5a5"
      },
      "execution_count": 30,
      "outputs": [
        {
          "output_type": "stream",
          "name": "stdout",
          "text": [
            "<class 'pandas.core.frame.DataFrame'>\n",
            "RangeIndex: 17331 entries, 0 to 17330\n",
            "Data columns (total 13 columns):\n",
            " #   Column            Non-Null Count  Dtype         \n",
            "---  ------            --------------  -----         \n",
            " 0   id                17331 non-null  int64         \n",
            " 1   date              17331 non-null  object        \n",
            " 2   likes             17331 non-null  int64         \n",
            " 3   content           17331 non-null  object        \n",
            " 4   username          17331 non-null  object        \n",
            " 5   media             17331 non-null  object        \n",
            " 6   inferred company  17331 non-null  object        \n",
            " 7   has_media         17331 non-null  bool          \n",
            " 8   datetime          17331 non-null  datetime64[ns]\n",
            " 9   hour              17331 non-null  int32         \n",
            " 10  day_of_week       17331 non-null  object        \n",
            " 11  word_count        17331 non-null  int64         \n",
            " 12  char_count        17331 non-null  int64         \n",
            "dtypes: bool(1), datetime64[ns](1), int32(1), int64(4), object(6)\n",
            "memory usage: 1.5+ MB\n"
          ]
        },
        {
          "output_type": "execute_result",
          "data": {
            "text/plain": [
              "id                  0\n",
              "date                0\n",
              "likes               0\n",
              "content             0\n",
              "username            0\n",
              "media               0\n",
              "inferred company    0\n",
              "has_media           0\n",
              "datetime            0\n",
              "hour                0\n",
              "day_of_week         0\n",
              "word_count          0\n",
              "char_count          0\n",
              "dtype: int64"
            ],
            "text/html": [
              "<div>\n",
              "<style scoped>\n",
              "    .dataframe tbody tr th:only-of-type {\n",
              "        vertical-align: middle;\n",
              "    }\n",
              "\n",
              "    .dataframe tbody tr th {\n",
              "        vertical-align: top;\n",
              "    }\n",
              "\n",
              "    .dataframe thead th {\n",
              "        text-align: right;\n",
              "    }\n",
              "</style>\n",
              "<table border=\"1\" class=\"dataframe\">\n",
              "  <thead>\n",
              "    <tr style=\"text-align: right;\">\n",
              "      <th></th>\n",
              "      <th>0</th>\n",
              "    </tr>\n",
              "  </thead>\n",
              "  <tbody>\n",
              "    <tr>\n",
              "      <th>id</th>\n",
              "      <td>0</td>\n",
              "    </tr>\n",
              "    <tr>\n",
              "      <th>date</th>\n",
              "      <td>0</td>\n",
              "    </tr>\n",
              "    <tr>\n",
              "      <th>likes</th>\n",
              "      <td>0</td>\n",
              "    </tr>\n",
              "    <tr>\n",
              "      <th>content</th>\n",
              "      <td>0</td>\n",
              "    </tr>\n",
              "    <tr>\n",
              "      <th>username</th>\n",
              "      <td>0</td>\n",
              "    </tr>\n",
              "    <tr>\n",
              "      <th>media</th>\n",
              "      <td>0</td>\n",
              "    </tr>\n",
              "    <tr>\n",
              "      <th>inferred company</th>\n",
              "      <td>0</td>\n",
              "    </tr>\n",
              "    <tr>\n",
              "      <th>has_media</th>\n",
              "      <td>0</td>\n",
              "    </tr>\n",
              "    <tr>\n",
              "      <th>datetime</th>\n",
              "      <td>0</td>\n",
              "    </tr>\n",
              "    <tr>\n",
              "      <th>hour</th>\n",
              "      <td>0</td>\n",
              "    </tr>\n",
              "    <tr>\n",
              "      <th>day_of_week</th>\n",
              "      <td>0</td>\n",
              "    </tr>\n",
              "    <tr>\n",
              "      <th>word_count</th>\n",
              "      <td>0</td>\n",
              "    </tr>\n",
              "    <tr>\n",
              "      <th>char_count</th>\n",
              "      <td>0</td>\n",
              "    </tr>\n",
              "  </tbody>\n",
              "</table>\n",
              "</div><br><label><b>dtype:</b> int64</label>"
            ]
          },
          "metadata": {},
          "execution_count": 30
        }
      ]
    },
    {
      "cell_type": "code",
      "source": [
        "df.to_csv(\"cleaned_tweet_data.csv\", index=False)\n",
        "#final cleaned dataset\n"
      ],
      "metadata": {
        "id": "9PPvIfi9xlIP"
      },
      "execution_count": 32,
      "outputs": []
    }
  ]
}